{
 "cells": [
  {
   "cell_type": "code",
   "execution_count": 8,
   "id": "182a18c6",
   "metadata": {},
   "outputs": [
    {
     "name": "stdout",
     "output_type": "stream",
     "text": [
      " * Serving Flask app \"__main__\" (lazy loading)\n",
      " * Environment: production\n",
      "\u001b[31m   WARNING: This is a development server. Do not use it in a production deployment.\u001b[0m\n",
      "\u001b[2m   Use a production WSGI server instead.\u001b[0m\n",
      " * Debug mode: off\n"
     ]
    },
    {
     "name": "stderr",
     "output_type": "stream",
     "text": [
      " * Running on http://192.168.171.197:5025/ (Press CTRL+C to quit)\n",
      "[2022-08-25 17:50:40,283] ERROR in app: Exception on /insert [GET]\n",
      "Traceback (most recent call last):\n",
      "  File \"C:\\Users\\AI\\Anaconda3\\lib\\site-packages\\flask\\app.py\", line 2447, in wsgi_app\n",
      "    response = self.full_dispatch_request()\n",
      "  File \"C:\\Users\\AI\\Anaconda3\\lib\\site-packages\\flask\\app.py\", line 1952, in full_dispatch_request\n",
      "    rv = self.handle_user_exception(e)\n",
      "  File \"C:\\Users\\AI\\Anaconda3\\lib\\site-packages\\flask\\app.py\", line 1821, in handle_user_exception\n",
      "    reraise(exc_type, exc_value, tb)\n",
      "  File \"C:\\Users\\AI\\Anaconda3\\lib\\site-packages\\flask\\_compat.py\", line 39, in reraise\n",
      "    raise value\n",
      "  File \"C:\\Users\\AI\\Anaconda3\\lib\\site-packages\\flask\\app.py\", line 1950, in full_dispatch_request\n",
      "    rv = self.dispatch_request()\n",
      "  File \"C:\\Users\\AI\\Anaconda3\\lib\\site-packages\\flask\\app.py\", line 1936, in dispatch_request\n",
      "    return self.view_functions[rule.endpoint](**req.view_args)\n",
      "  File \"C:\\Users\\AI\\AppData\\Local\\Temp\\ipykernel_10076\\1757289847.py\", line 17, in insert\n",
      "    db.insert_db2(i,j[0],j[1],j[2],data1,data2,data3)\n",
      "  File \"C:\\Users\\AI\\Desktop\\last_DB\\db.py\", line 13, in insert_db2\n",
      "    curs.execute(sql)\n",
      "  File \"C:\\Users\\AI\\Anaconda3\\lib\\site-packages\\pymysql\\cursors.py\", line 148, in execute\n",
      "    result = self._query(query)\n",
      "  File \"C:\\Users\\AI\\Anaconda3\\lib\\site-packages\\pymysql\\cursors.py\", line 310, in _query\n",
      "    conn.query(q)\n",
      "  File \"C:\\Users\\AI\\Anaconda3\\lib\\site-packages\\pymysql\\connections.py\", line 547, in query\n",
      "    self._execute_command(COMMAND.COM_QUERY, sql)\n",
      "  File \"C:\\Users\\AI\\Anaconda3\\lib\\site-packages\\pymysql\\connections.py\", line 793, in _execute_command\n",
      "    raise err.InterfaceError(0, \"\")\n",
      "pymysql.err.InterfaceError: (0, '')\n",
      "192.168.171.197 - - [25/Aug/2022 17:50:40] \"GET /insert?data1=0&data2=0&data3=0&data4=0&data5=0&data6=0&data7=0 HTTP/1.1\" 500 -\n"
     ]
    },
    {
     "name": "stdout",
     "output_type": "stream",
     "text": [
      "3\n",
      "['0', '0', '0']\n"
     ]
    }
   ],
   "source": [
    "from flask import Flask, request\n",
    "import db\n",
    "from flask import Flask, request\n",
    "import db\n",
    "app = Flask(__name__)\n",
    "@app.route('/insert', methods=['GET'])\n",
    "def insert():\n",
    "    if request.method == 'GET':\n",
    "        for i,j,k in zip(db.table,db.column,db.sensor):\n",
    "            print(len(j))\n",
    "            if len(j) == 3:\n",
    "                    data1 = request.args['data1']\n",
    "                    data2 = request.args['data2']\n",
    "                    data3 = request.args['data3']\n",
    "                    data=[data1,data2,data3]\n",
    "                    print(data)\n",
    "                    db.insert_db2(i,j[0],j[1],j[2],data1,data2,data3)\n",
    "                    return '데이터 삽입 성공'\n",
    "            else :\n",
    "                    \n",
    "                    data = request.args[f'data{k[0]}']\n",
    "                    db.insert_db(i,j[0],data)\n",
    "                    return '데이터 삽입 성공'\n",
    "                    \n",
    "@app.route('/select')\n",
    "def select():\n",
    "    result = db.select_db()\n",
    "    print(result)\n",
    "    return '데이터 출력 성공'\n",
    "if __name__ == '__main__':\n",
    "    app.run(host='192.168.171.197', port=5025)"
   ]
  },
  {
   "cell_type": "code",
   "execution_count": 7,
   "id": "b1eceb84",
   "metadata": {},
   "outputs": [
    {
     "name": "stdout",
     "output_type": "stream",
     "text": [
      "i : tb_sensor_o2_hr\n",
      "j : 3\n",
      "k : ['1', '2', '3']\n",
      "i : tb_sensor_temp\n",
      "j : 1\n",
      "k : ['4']\n",
      "i : tb_sensor_humid\n",
      "j : 1\n",
      "k : ['5']\n",
      "i : tb_sensor_ecg\n",
      "j : 1\n",
      "k : ['6']\n",
      "i : tb_sensor_emg\n",
      "j : 1\n",
      "k : ['7']\n"
     ]
    }
   ],
   "source": [
    "for i,j,k in zip(db.table,db.column,db.sensor):\n",
    "    print('i :', i)\n",
    "    print('j :',len(j))\n",
    "    print('k :', k)        "
   ]
  },
  {
   "cell_type": "code",
   "execution_count": null,
   "id": "8b175db8",
   "metadata": {},
   "outputs": [],
   "source": []
  }
 ],
 "metadata": {
  "kernelspec": {
   "display_name": "Python 3 (ipykernel)",
   "language": "python",
   "name": "python3"
  },
  "language_info": {
   "codemirror_mode": {
    "name": "ipython",
    "version": 3
   },
   "file_extension": ".py",
   "mimetype": "text/x-python",
   "name": "python",
   "nbconvert_exporter": "python",
   "pygments_lexer": "ipython3",
   "version": "3.9.12"
  },
  "toc": {
   "base_numbering": 1,
   "nav_menu": {},
   "number_sections": true,
   "sideBar": true,
   "skip_h1_title": false,
   "title_cell": "Table of Contents",
   "title_sidebar": "Contents",
   "toc_cell": false,
   "toc_position": {},
   "toc_section_display": true,
   "toc_window_display": false
  },
  "vscode": {
   "interpreter": {
    "hash": "a5bf2311312fd6e1621fce05ad8f1038919c97fe1aec56043234cf1cfafc61ec"
   }
  }
 },
 "nbformat": 4,
 "nbformat_minor": 5
}
